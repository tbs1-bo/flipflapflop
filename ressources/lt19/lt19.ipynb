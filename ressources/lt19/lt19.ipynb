{
 "cells": [
  {
   "cell_type": "markdown",
   "metadata": {},
   "source": [
    "# Simulator erzeugen"
   ]
  },
  {
   "cell_type": "code",
   "execution_count": 1,
   "metadata": {},
   "outputs": [
    {
     "name": "stdout",
     "output_type": "stream",
     "text": [
      "/home/pintman/proj/flipflapflop\n"
     ]
    },
    {
     "name": "stderr",
     "output_type": "stream",
     "text": [
      "/home/pintman/.cache/pypoetry/virtualenvs/flipflapflop-pEk3Hff4-py3.12/lib/python3.12/site-packages/IPython/core/magics/osm.py:417: UserWarning: This is now an optional IPython functionality, setting dhist requires you to install the `pickleshare` library.\n",
      "  self.shell.db['dhist'] = compress_dhist(dhist)[-100:]\n"
     ]
    },
    {
     "name": "stdout",
     "output_type": "stream",
     "text": [
      "\u001b[0m\u001b[01;34mbin\u001b[0m/                      \u001b[01;34mdocgen\u001b[0m/             \u001b[01;34mhardware\u001b[0m/       \u001b[01;34mressources\u001b[0m/\n",
      "binclock.py               \u001b[01;34mdocs\u001b[0m/               Makefile        rogueflip.py\n",
      "cam2display.py            drawing.py          MCP23017.py     \u001b[01;32msetup-picore.sh\u001b[0m*\n",
      "clock.py                  fffmqtt.py          \u001b[01;34mmedia\u001b[0m/          \u001b[01;34mtemplates\u001b[0m/\n",
      "configuration.py          fffserial.py        net.py          \u001b[01;32mtests.sh\u001b[0m*\n",
      "configuration_sample.py   flipdotdisplay.py   poetry.lock     \u001b[01;34mupython\u001b[0m/\n",
      "demos.py                  flipdotfont.py      presenter.py    util.py\n",
      "demo_switcher.py          flipdotsim.py       \u001b[01;34m__pycache__\u001b[0m/    web.py\n",
      "\u001b[01;34mdeployment\u001b[0m/               \u001b[01;34mgamejamdo_2020-05\u001b[0m/  pyproject.toml\n",
      "displayprovider.py        \u001b[01;34mgodot_client\u001b[0m/       pyxel_sim.py\n",
      "displayserver_service.py  \u001b[01;34mgodot_emu\u001b[0m/          README.md\n"
     ]
    }
   ],
   "source": [
    "%cd ../..\n",
    "%ls"
   ]
  },
  {
   "cell_type": "code",
   "execution_count": 2,
   "metadata": {},
   "outputs": [
    {
     "name": "stdout",
     "output_type": "stream",
     "text": [
      "pygame 2.6.1 (SDL 2.28.4, Python 3.12.7)\n",
      "Hello from the pygame community. https://www.pygame.org/contribute.html\n"
     ]
    }
   ],
   "source": [
    "import flipdotsim\n",
    "\n",
    "fdd = flipdotsim.FlipDotSim(width=10, height=10, fps=30)"
   ]
  },
  {
   "cell_type": "markdown",
   "metadata": {},
   "source": [
    "Pixel setzen..."
   ]
  },
  {
   "cell_type": "code",
   "execution_count": 3,
   "metadata": {},
   "outputs": [],
   "source": [
    "fdd.px(0, 0, True)\n",
    "fdd.px(1, 1, True)"
   ]
  },
  {
   "cell_type": "markdown",
   "metadata": {},
   "source": [
    "... und anzeigen"
   ]
  },
  {
   "cell_type": "code",
   "execution_count": 4,
   "metadata": {},
   "outputs": [],
   "source": [
    "fdd.show()"
   ]
  },
  {
   "cell_type": "code",
   "execution_count": 5,
   "metadata": {},
   "outputs": [],
   "source": [
    "fdd.close()"
   ]
  },
  {
   "cell_type": "markdown",
   "metadata": {},
   "source": [
    "## Plasma-Demo\n",
    "\n",
    "Quelle: https://www.bidouille.org/prog/plasma\n",
    "\n",
    "![plasma](plasma.png)"
   ]
  },
  {
   "cell_type": "code",
   "execution_count": 6,
   "metadata": {},
   "outputs": [],
   "source": [
    "fdd = flipdotsim.FlipDotSim(width=20, height=20)"
   ]
  },
  {
   "cell_type": "code",
   "execution_count": 7,
   "metadata": {},
   "outputs": [],
   "source": [
    "from math import sin, cos\n",
    "\n",
    "def handle_px(x, y, t):\n",
    "    v = sin(1*(0.5*x*sin(t/2) +\n",
    "               0.5*y*cos(t/3)) + t)\n",
    "\n",
    "    return v > 0"
   ]
  },
  {
   "cell_type": "code",
   "execution_count": 8,
   "metadata": {},
   "outputs": [],
   "source": [
    "import time\n",
    "\n",
    "def draw_frame(disp):\n",
    "    t = time.time()\n",
    "    for x in range(disp.width):\n",
    "        for y in range(disp.height):\n",
    "            px_on = handle_px(x, y, t)\n",
    "            disp.px(x, y, px_on)\n",
    "\n",
    "    disp.show()"
   ]
  },
  {
   "cell_type": "code",
   "execution_count": 9,
   "metadata": {},
   "outputs": [],
   "source": [
    "draw_frame(fdd)"
   ]
  },
  {
   "cell_type": "code",
   "execution_count": 10,
   "metadata": {},
   "outputs": [],
   "source": [
    "for i in range(100):\n",
    "    draw_frame(fdd)"
   ]
  },
  {
   "cell_type": "code",
   "execution_count": 11,
   "metadata": {},
   "outputs": [],
   "source": [
    "fdd.close()"
   ]
  },
  {
   "cell_type": "markdown",
   "metadata": {},
   "source": [
    "# Beschränkungen\n",
    "\n",
    "* Framerate\n",
    "* Farbtiefe ~1,5 Bit\n",
    "* Pixelträgheit\n",
    "* \"Pixelfäulnis\""
   ]
  },
  {
   "cell_type": "markdown",
   "metadata": {},
   "source": [
    "# Remote Display"
   ]
  },
  {
   "cell_type": "code",
   "execution_count": null,
   "metadata": {},
   "outputs": [],
   "source": [
    "! nc --help"
   ]
  },
  {
   "cell_type": "code",
   "execution_count": null,
   "metadata": {},
   "outputs": [],
   "source": [
    "! echo size | nc taylorpi.local 10101"
   ]
  },
  {
   "cell_type": "code",
   "execution_count": null,
   "metadata": {},
   "outputs": [],
   "source": [
    "! echo 11001011 | nc taylorpi.local 10101"
   ]
  },
  {
   "cell_type": "markdown",
   "metadata": {},
   "source": [
    "## Ansteuerung mit Python"
   ]
  },
  {
   "cell_type": "markdown",
   "metadata": {},
   "source": [
    "## Remote Display"
   ]
  },
  {
   "cell_type": "code",
   "execution_count": null,
   "metadata": {},
   "outputs": [],
   "source": [
    "import net  # from flipflapflop\n",
    "\n",
    "fdd = net.RemoteDisplay(\n",
    "    host='taylorpi.local', \n",
    "    width=126, height=16)"
   ]
  },
  {
   "cell_type": "markdown",
   "metadata": {},
   "source": [
    "## Lokales Display (Simulator)"
   ]
  },
  {
   "cell_type": "code",
   "execution_count": null,
   "metadata": {},
   "outputs": [],
   "source": [
    "import net  # from flipflapflop\n",
    "\n",
    "fdd = net.RemoteDisplay(\n",
    "    host='localhost',\n",
    "    width=28, height=13)"
   ]
  },
  {
   "cell_type": "code",
   "execution_count": null,
   "metadata": {},
   "outputs": [],
   "source": [
    "draw_frame(fdd)"
   ]
  },
  {
   "cell_type": "code",
   "execution_count": null,
   "metadata": {},
   "outputs": [],
   "source": [
    "import time\n",
    "\n",
    "for i in range(50):\n",
    "    draw_frame(fdd)\n",
    "    time.sleep(0.1)"
   ]
  },
  {
   "cell_type": "markdown",
   "metadata": {},
   "source": [
    "# Dokumentation, Quellen\n",
    "\n",
    "* https://github.com/tbs1-bo/flipflapflop\n",
    "\n",
    "* https://tbs1-bo.github.io/flipflapflop"
   ]
  },
  {
   "cell_type": "markdown",
   "metadata": {},
   "source": [
    "## Selber hacken\n",
    "\n",
    "* Mit Access Point `flipflapflop` verbinden (Passwort `polfpalfpilf`)\n",
    "* Host: `taylorpi.local`\n",
    "* Port: 10101"
   ]
  }
 ],
 "metadata": {
  "kernelspec": {
   "display_name": "Python 3 (ipykernel)",
   "language": "python",
   "name": "python3"
  },
  "language_info": {
   "codemirror_mode": {
    "name": "ipython",
    "version": 3
   },
   "file_extension": ".py",
   "mimetype": "text/x-python",
   "name": "python",
   "nbconvert_exporter": "python",
   "pygments_lexer": "ipython3",
   "version": "3.12.7"
  }
 },
 "nbformat": 4,
 "nbformat_minor": 4
}
